{
 "cells": [
  {
   "cell_type": "code",
   "execution_count": 10,
   "metadata": {},
   "outputs": [
    {
     "name": "stdout",
     "output_type": "stream",
     "text": [
      "10\n",
      "20\n",
      "30\n",
      "40\n",
      "50\n",
      "60\n",
      "70\n",
      "80\n",
      "90\n",
      "100\n",
      "100\n",
      "O elemento K existe e esta na posição 2\n"
     ]
    }
   ],
   "source": [
    "def teste (n): \n",
    "    j = 0\n",
    "    for num in range(n):\n",
    "        j += 10\n",
    "        print(j)\n",
    "    return j\n",
    "\n",
    "a = teste(10)\n",
    "print(a)\n",
    "\n",
    "def find_element(lista):\n",
    "    for index, element in enumerate(lista):\n",
    "        if element == 'k':\n",
    "            return index, True\n",
    "    return 0, False\n",
    "    \n",
    "lista = ['a', 'b', 'k', ]\n",
    "index, check = find_element(lista)\n",
    "if check is True:\n",
    "    print(f'O elemento K existe e esta na posição {index}')\n",
    "else:\n",
    "    print(f\"O elemento K não existe na lista\")"
   ]
  }
 ],
 "metadata": {
  "kernelspec": {
   "display_name": "Python 3",
   "language": "python",
   "name": "python3"
  },
  "language_info": {
   "codemirror_mode": {
    "name": "ipython",
    "version": 3
   },
   "file_extension": ".py",
   "mimetype": "text/x-python",
   "name": "python",
   "nbconvert_exporter": "python",
   "pygments_lexer": "ipython3",
   "version": "3.12.5"
  }
 },
 "nbformat": 4,
 "nbformat_minor": 2
}
